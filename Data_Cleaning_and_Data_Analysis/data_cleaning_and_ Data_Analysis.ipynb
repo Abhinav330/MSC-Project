{
 "cells": [
  {
   "cell_type": "markdown",
   "metadata": {},
   "source": [
    "# Data Cleaning for Scraped Data"
   ]
  },
  {
   "cell_type": "code",
   "execution_count": 1,
   "metadata": {},
   "outputs": [],
   "source": [
    "import numpy as np \n",
    "import pandas as pd\n",
    "import matplotlib.pyplot as plt\n",
    "import seaborn as sns"
   ]
  },
  {
   "cell_type": "code",
   "execution_count": 2,
   "metadata": {},
   "outputs": [],
   "source": [
    "df = pd.read_csv('Course_Data.csv')"
   ]
  },
  {
   "cell_type": "code",
   "execution_count": 3,
   "metadata": {},
   "outputs": [
    {
     "name": "stdout",
     "output_type": "stream",
     "text": [
      "<class 'pandas.core.frame.DataFrame'>\n",
      "RangeIndex: 459 entries, 0 to 458\n",
      "Data columns (total 7 columns):\n",
      " #   Column              Non-Null Count  Dtype \n",
      "---  ------              --------------  ----- \n",
      " 0   Page title          459 non-null    object\n",
      " 1   UK Fees             459 non-null    object\n",
      " 2   International Fees  459 non-null    object\n",
      " 3   Duration            459 non-null    object\n",
      " 4   Campus              459 non-null    object\n",
      " 5   description         459 non-null    object\n",
      " 6   Url                 459 non-null    object\n",
      "dtypes: object(7)\n",
      "memory usage: 25.2+ KB\n"
     ]
    }
   ],
   "source": [
    "df.info()"
   ]
  },
  {
   "cell_type": "code",
   "execution_count": 4,
   "metadata": {},
   "outputs": [
    {
     "data": {
      "text/html": [
       "<div>\n",
       "<style scoped>\n",
       "    .dataframe tbody tr th:only-of-type {\n",
       "        vertical-align: middle;\n",
       "    }\n",
       "\n",
       "    .dataframe tbody tr th {\n",
       "        vertical-align: top;\n",
       "    }\n",
       "\n",
       "    .dataframe thead th {\n",
       "        text-align: right;\n",
       "    }\n",
       "</style>\n",
       "<table border=\"1\" class=\"dataframe\">\n",
       "  <thead>\n",
       "    <tr style=\"text-align: right;\">\n",
       "      <th></th>\n",
       "      <th>Page title</th>\n",
       "      <th>UK Fees</th>\n",
       "      <th>International Fees</th>\n",
       "      <th>Duration</th>\n",
       "      <th>Campus</th>\n",
       "      <th>description</th>\n",
       "      <th>Url</th>\n",
       "    </tr>\n",
       "  </thead>\n",
       "  <tbody>\n",
       "    <tr>\n",
       "      <th>count</th>\n",
       "      <td>459</td>\n",
       "      <td>459</td>\n",
       "      <td>459</td>\n",
       "      <td>459</td>\n",
       "      <td>459</td>\n",
       "      <td>459</td>\n",
       "      <td>459</td>\n",
       "    </tr>\n",
       "    <tr>\n",
       "      <th>unique</th>\n",
       "      <td>275</td>\n",
       "      <td>37</td>\n",
       "      <td>34</td>\n",
       "      <td>10</td>\n",
       "      <td>4</td>\n",
       "      <td>234</td>\n",
       "      <td>459</td>\n",
       "    </tr>\n",
       "    <tr>\n",
       "      <th>top</th>\n",
       "      <td>Teaching English to Speakers of Other Language...</td>\n",
       "      <td>£9,250</td>\n",
       "      <td>£17,000</td>\n",
       "      <td>1 year</td>\n",
       "      <td>Regent, Central London</td>\n",
       "      <td>Our degree courses with Foundation year offer ...</td>\n",
       "      <td>https://www.westminster.ac.uk/biological-and-b...</td>\n",
       "    </tr>\n",
       "    <tr>\n",
       "      <th>freq</th>\n",
       "      <td>8</td>\n",
       "      <td>163</td>\n",
       "      <td>183</td>\n",
       "      <td>151</td>\n",
       "      <td>196</td>\n",
       "      <td>23</td>\n",
       "      <td>1</td>\n",
       "    </tr>\n",
       "  </tbody>\n",
       "</table>\n",
       "</div>"
      ],
      "text/plain": [
       "                                               Page title UK Fees  \\\n",
       "count                                                 459     459   \n",
       "unique                                                275      37   \n",
       "top     Teaching English to Speakers of Other Language...  £9,250   \n",
       "freq                                                    8     163   \n",
       "\n",
       "       International Fees Duration                  Campus  \\\n",
       "count                 459      459                     459   \n",
       "unique                 34       10                       4   \n",
       "top               £17,000   1 year  Regent, Central London   \n",
       "freq                  183      151                     196   \n",
       "\n",
       "                                              description  \\\n",
       "count                                                 459   \n",
       "unique                                                234   \n",
       "top     Our degree courses with Foundation year offer ...   \n",
       "freq                                                   23   \n",
       "\n",
       "                                                      Url  \n",
       "count                                                 459  \n",
       "unique                                                459  \n",
       "top     https://www.westminster.ac.uk/biological-and-b...  \n",
       "freq                                                    1  "
      ]
     },
     "execution_count": 4,
     "metadata": {},
     "output_type": "execute_result"
    }
   ],
   "source": [
    "df.describe()"
   ]
  },
  {
   "cell_type": "markdown",
   "metadata": {},
   "source": [
    "## Cleaning Data "
   ]
  },
  {
   "cell_type": "code",
   "execution_count": 5,
   "metadata": {},
   "outputs": [
    {
     "data": {
      "text/plain": [
       "0    Applied Biotechnology MSc - Courses | Universi...\n",
       "1    Architecture and Environmental Design MSc - Co...\n",
       "2    Interior Architecture MA - Courses | Universit...\n",
       "3    Master of Architecture (MArch) (RIBA pt II) - ...\n",
       "4    Interactive Media Practice MA - Courses | Univ...\n",
       "Name: Page title, dtype: object"
      ]
     },
     "execution_count": 5,
     "metadata": {},
     "output_type": "execute_result"
    }
   ],
   "source": [
    "df['Page title'].head()"
   ]
  },
  {
   "cell_type": "markdown",
   "metadata": {},
   "source": [
    "- All courses have '| University of westminster london' need to remove this"
   ]
  },
  {
   "cell_type": "code",
   "execution_count": 6,
   "metadata": {},
   "outputs": [],
   "source": [
    "df['Page title'] =df['Page title'].str.split(' - ').str[0]"
   ]
  },
  {
   "cell_type": "markdown",
   "metadata": {},
   "source": [
    "- Page title cleaned"
   ]
  },
  {
   "cell_type": "code",
   "execution_count": 7,
   "metadata": {},
   "outputs": [],
   "source": [
    "for _ , j in df.iterrows():\n",
    "    if(j['UK Fees'][0] != '£') & (j['UK Fees'][0].isalnum()== False):\n",
    "        print(\"issue\")"
   ]
  },
  {
   "cell_type": "markdown",
   "metadata": {},
   "source": [
    "- no issue in 'UK Fees' column"
   ]
  },
  {
   "cell_type": "code",
   "execution_count": 8,
   "metadata": {},
   "outputs": [],
   "source": [
    "for _ , j in df.iterrows():\n",
    "    if(j['International Fees'][0] != '£') & (j['International Fees'][0].isalnum()== False):\n",
    "        print(\"issue\")"
   ]
  },
  {
   "cell_type": "markdown",
   "metadata": {},
   "source": [
    "- no issue in 'International Fees' column"
   ]
  },
  {
   "cell_type": "code",
   "execution_count": 9,
   "metadata": {},
   "outputs": [
    {
     "data": {
      "text/plain": [
       "array(['1 year', '2 years', '2-5 years', '5 years', '4 years',\n",
       "       '6-7 years', '6 years', '4 or 5 years', '3 or 4 years', '3 years'],\n",
       "      dtype=object)"
      ]
     },
     "execution_count": 9,
     "metadata": {},
     "output_type": "execute_result"
    }
   ],
   "source": [
    "df['Duration'].unique()"
   ]
  },
  {
   "cell_type": "markdown",
   "metadata": {},
   "source": [
    "no issue  in  'Duration' column"
   ]
  },
  {
   "cell_type": "code",
   "execution_count": 10,
   "metadata": {},
   "outputs": [
    {
     "data": {
      "text/plain": [
       "array(['Cavendish, Central London', 'Marylebone, Central London',\n",
       "       'Harrow, North-West London', 'Regent, Central London'],\n",
       "      dtype=object)"
      ]
     },
     "execution_count": 10,
     "metadata": {},
     "output_type": "execute_result"
    }
   ],
   "source": [
    "df['Campus'].unique()"
   ]
  },
  {
   "cell_type": "markdown",
   "metadata": {},
   "source": [
    "no issue in 'Campus' Column."
   ]
  },
  {
   "cell_type": "code",
   "execution_count": 11,
   "metadata": {},
   "outputs": [
    {
     "data": {
      "text/plain": [
       "275"
      ]
     },
     "execution_count": 11,
     "metadata": {},
     "output_type": "execute_result"
    }
   ],
   "source": [
    "df['Page title'].nunique()"
   ]
  },
  {
   "cell_type": "code",
   "execution_count": 12,
   "metadata": {},
   "outputs": [
    {
     "data": {
      "text/plain": [
       "(459, 7)"
      ]
     },
     "execution_count": 12,
     "metadata": {},
     "output_type": "execute_result"
    }
   ],
   "source": [
    "df.shape"
   ]
  },
  {
   "cell_type": "markdown",
   "metadata": {},
   "source": [
    "- it is clear that we have dublicate values. this is because we have part-time , full-time, distance learning course with same title and description.\n",
    "\n",
    "### Need to create more columns to seperate part-time and full-time informations"
   ]
  },
  {
   "cell_type": "code",
   "execution_count": 13,
   "metadata": {},
   "outputs": [],
   "source": [
    "def course_type_finder(x):\n",
    "    if 'part-time' in x:\n",
    "        return'part time'\n",
    "    elif 'full-time' in x:\n",
    "        return 'full time'\n",
    "    elif 'block-release' in x:\n",
    "        return 'block release'\n",
    "    elif 'open-distance-learning' in x:\n",
    "        return 'distance learning'\n",
    "    else:\n",
    "        return 'unknown'"
   ]
  },
  {
   "cell_type": "code",
   "execution_count": 14,
   "metadata": {},
   "outputs": [],
   "source": [
    "df['course_type'] = df['Url'].apply(course_type_finder)"
   ]
  },
  {
   "cell_type": "code",
   "execution_count": 15,
   "metadata": {},
   "outputs": [
    {
     "data": {
      "text/plain": [
       "array(['full time', 'block release', 'part time', 'distance learning'],\n",
       "      dtype=object)"
      ]
     },
     "execution_count": 15,
     "metadata": {},
     "output_type": "execute_result"
    }
   ],
   "source": [
    "df['course_type'].unique()"
   ]
  },
  {
   "cell_type": "code",
   "execution_count": 16,
   "metadata": {},
   "outputs": [
    {
     "data": {
      "text/plain": [
       "Index(['Page title', 'UK Fees', 'International Fees', 'Duration', 'Campus',\n",
       "       'description', 'Url', 'course_type'],\n",
       "      dtype='object')"
      ]
     },
     "execution_count": 16,
     "metadata": {},
     "output_type": "execute_result"
    }
   ],
   "source": [
    "df.columns"
   ]
  },
  {
   "cell_type": "code",
   "execution_count": 17,
   "metadata": {},
   "outputs": [],
   "source": [
    "df['desc_len'] = len(df['description'])"
   ]
  },
  {
   "cell_type": "code",
   "execution_count": 18,
   "metadata": {},
   "outputs": [],
   "source": [
    "new_df = df.pivot_table(index='Page title', \n",
    "                        columns='course_type', \n",
    "                        values=['UK Fees', 'International Fees','Campus', \n",
    "                                'Duration','description','Url','desc_len'],\n",
    "                        aggfunc='first'\n",
    "                        )"
   ]
  },
  {
   "cell_type": "code",
   "execution_count": 19,
   "metadata": {},
   "outputs": [],
   "source": [
    "new_df.columns = new_df.columns.swaplevel(0, 1).map('_'.join).str.lower()"
   ]
  },
  {
   "cell_type": "code",
   "execution_count": 20,
   "metadata": {},
   "outputs": [],
   "source": [
    "new_df['full time_desc_len'] = new_df['full time_desc_len'].fillna(new_df['part time_desc_len'])\n",
    "new_df['full time_desc_len'] = new_df['full time_desc_len'].fillna(new_df['block release_desc_len'])\n",
    "new_df['full time_desc_len'] = new_df['full time_desc_len'].fillna(new_df['distance learning_desc_len'])\n",
    "\n",
    "# Campus\n",
    "new_df['full time_campus'] = new_df['full time_campus'].fillna(new_df['part time_campus'])\n",
    "new_df['full time_campus'] = new_df['full time_campus'].fillna(new_df['block release_campus'])\n",
    "new_df['full time_campus'] = new_df['full time_campus'].fillna(new_df['distance learning_campus'])\n",
    "\n",
    "# description\n",
    "new_df['full time_description'] = new_df['full time_description'].fillna(new_df['part time_description'])\n",
    "new_df['full time_description'] = new_df['full time_description'].fillna(new_df['block release_description'])\n",
    "new_df['full time_description'] = new_df['full time_description'].fillna(new_df['distance learning_description'])\n",
    "\n"
   ]
  },
  {
   "cell_type": "code",
   "execution_count": 21,
   "metadata": {},
   "outputs": [],
   "source": [
    "new_df.drop(['part time_desc_len','block release_desc_len','distance learning_desc_len','part time_campus',\n",
    "         'block release_campus','distance learning_campus','part time_description','block release_description','distance learning_description'\n",
    "         ],axis=1, inplace=True)\n",
    "\n"
   ]
  },
  {
   "cell_type": "code",
   "execution_count": 22,
   "metadata": {},
   "outputs": [],
   "source": [
    "new_df.rename(columns={'full time_desc_len':'desc_len',\n",
    "              'full time_campus': 'campus',\n",
    "               'full time_description':'description' },inplace=True)"
   ]
  },
  {
   "cell_type": "code",
   "execution_count": 23,
   "metadata": {},
   "outputs": [],
   "source": [
    "new_df.fillna('', inplace=True)"
   ]
  },
  {
   "cell_type": "code",
   "execution_count": 24,
   "metadata": {},
   "outputs": [
    {
     "data": {
      "text/html": [
       "<div>\n",
       "<style scoped>\n",
       "    .dataframe tbody tr th:only-of-type {\n",
       "        vertical-align: middle;\n",
       "    }\n",
       "\n",
       "    .dataframe tbody tr th {\n",
       "        vertical-align: top;\n",
       "    }\n",
       "\n",
       "    .dataframe thead th {\n",
       "        text-align: right;\n",
       "    }\n",
       "</style>\n",
       "<table border=\"1\" class=\"dataframe\">\n",
       "  <thead>\n",
       "    <tr style=\"text-align: right;\">\n",
       "      <th></th>\n",
       "      <th>Page title</th>\n",
       "      <th>campus</th>\n",
       "      <th>block release_duration</th>\n",
       "      <th>distance learning_duration</th>\n",
       "      <th>full time_duration</th>\n",
       "      <th>part time_duration</th>\n",
       "      <th>block release_international fees</th>\n",
       "      <th>distance learning_international fees</th>\n",
       "      <th>full time_international fees</th>\n",
       "      <th>part time_international fees</th>\n",
       "      <th>block release_uk fees</th>\n",
       "      <th>distance learning_uk fees</th>\n",
       "      <th>full time_uk fees</th>\n",
       "      <th>part time_uk fees</th>\n",
       "      <th>block release_url</th>\n",
       "      <th>distance learning_url</th>\n",
       "      <th>full time_url</th>\n",
       "      <th>part time_url</th>\n",
       "      <th>desc_len</th>\n",
       "      <th>description</th>\n",
       "    </tr>\n",
       "  </thead>\n",
       "  <tbody>\n",
       "    <tr>\n",
       "      <th>0</th>\n",
       "      <td>AI, Data and Communication MA</td>\n",
       "      <td>Harrow, North-West London</td>\n",
       "      <td></td>\n",
       "      <td></td>\n",
       "      <td>1 year</td>\n",
       "      <td>2 years</td>\n",
       "      <td></td>\n",
       "      <td></td>\n",
       "      <td>£17,500</td>\n",
       "      <td>£1,985</td>\n",
       "      <td></td>\n",
       "      <td></td>\n",
       "      <td>£9,700</td>\n",
       "      <td>£1,125</td>\n",
       "      <td></td>\n",
       "      <td></td>\n",
       "      <td>https://www.westminster.ac.uk/computer-science...</td>\n",
       "      <td>https://www.westminster.ac.uk/computer-science...</td>\n",
       "      <td>459.0</td>\n",
       "      <td>It is estimated that there will be 97 million ...</td>\n",
       "    </tr>\n",
       "    <tr>\n",
       "      <th>1</th>\n",
       "      <td>Accounting BSc Honours</td>\n",
       "      <td>Marylebone, Central London</td>\n",
       "      <td></td>\n",
       "      <td></td>\n",
       "      <td>3 or 4 years</td>\n",
       "      <td></td>\n",
       "      <td></td>\n",
       "      <td></td>\n",
       "      <td>£17,000</td>\n",
       "      <td></td>\n",
       "      <td></td>\n",
       "      <td></td>\n",
       "      <td>£9,250</td>\n",
       "      <td></td>\n",
       "      <td></td>\n",
       "      <td></td>\n",
       "      <td>https://www.westminster.ac.uk/accounting-and-f...</td>\n",
       "      <td></td>\n",
       "      <td>459.0</td>\n",
       "      <td>Our innovative accounting course is designed t...</td>\n",
       "    </tr>\n",
       "    <tr>\n",
       "      <th>2</th>\n",
       "      <td>Accounting and Business Management BA Honours</td>\n",
       "      <td>Marylebone, Central London</td>\n",
       "      <td></td>\n",
       "      <td></td>\n",
       "      <td>3 or 4 years</td>\n",
       "      <td></td>\n",
       "      <td></td>\n",
       "      <td></td>\n",
       "      <td>£17,000</td>\n",
       "      <td></td>\n",
       "      <td></td>\n",
       "      <td></td>\n",
       "      <td>£9,250</td>\n",
       "      <td></td>\n",
       "      <td></td>\n",
       "      <td></td>\n",
       "      <td>https://www.westminster.ac.uk/accounting-and-f...</td>\n",
       "      <td></td>\n",
       "      <td>459.0</td>\n",
       "      <td>This degree is designed to equip you with a un...</td>\n",
       "    </tr>\n",
       "  </tbody>\n",
       "</table>\n",
       "</div>"
      ],
      "text/plain": [
       "                                      Page title                      campus  \\\n",
       "0                  AI, Data and Communication MA   Harrow, North-West London   \n",
       "1                         Accounting BSc Honours  Marylebone, Central London   \n",
       "2  Accounting and Business Management BA Honours  Marylebone, Central London   \n",
       "\n",
       "  block release_duration distance learning_duration full time_duration  \\\n",
       "0                                                               1 year   \n",
       "1                                                         3 or 4 years   \n",
       "2                                                         3 or 4 years   \n",
       "\n",
       "  part time_duration block release_international fees  \\\n",
       "0            2 years                                    \n",
       "1                                                       \n",
       "2                                                       \n",
       "\n",
       "  distance learning_international fees full time_international fees  \\\n",
       "0                                                           £17,500   \n",
       "1                                                           £17,000   \n",
       "2                                                           £17,000   \n",
       "\n",
       "  part time_international fees block release_uk fees  \\\n",
       "0                       £1,985                         \n",
       "1                                                      \n",
       "2                                                      \n",
       "\n",
       "  distance learning_uk fees full time_uk fees part time_uk fees  \\\n",
       "0                                      £9,700            £1,125   \n",
       "1                                      £9,250                     \n",
       "2                                      £9,250                     \n",
       "\n",
       "  block release_url distance learning_url  \\\n",
       "0                                           \n",
       "1                                           \n",
       "2                                           \n",
       "\n",
       "                                       full time_url  \\\n",
       "0  https://www.westminster.ac.uk/computer-science...   \n",
       "1  https://www.westminster.ac.uk/accounting-and-f...   \n",
       "2  https://www.westminster.ac.uk/accounting-and-f...   \n",
       "\n",
       "                                       part time_url  desc_len  \\\n",
       "0  https://www.westminster.ac.uk/computer-science...     459.0   \n",
       "1                                                        459.0   \n",
       "2                                                        459.0   \n",
       "\n",
       "                                         description  \n",
       "0  It is estimated that there will be 97 million ...  \n",
       "1  Our innovative accounting course is designed t...  \n",
       "2  This degree is designed to equip you with a un...  "
      ]
     },
     "execution_count": 24,
     "metadata": {},
     "output_type": "execute_result"
    }
   ],
   "source": [
    "new_df = new_df.reset_index()\n",
    "new_df.head(3)"
   ]
  },
  {
   "cell_type": "code",
   "execution_count": 25,
   "metadata": {},
   "outputs": [
    {
     "data": {
      "text/plain": [
       "(275, 20)"
      ]
     },
     "execution_count": 25,
     "metadata": {},
     "output_type": "execute_result"
    }
   ],
   "source": [
    "new_df.shape"
   ]
  },
  {
   "cell_type": "markdown",
   "metadata": {},
   "source": [
    "# Data Analysis"
   ]
  },
  {
   "cell_type": "code",
   "execution_count": 26,
   "metadata": {},
   "outputs": [],
   "source": [
    "def sorted_generate(df,col):\n",
    "\n",
    "    try:\n",
    "        df[f'{col} (int)'] = df[col].str.replace('\\u00a3', '').str.replace(',', '').astype(int)\n",
    "        sorted_val = df[f'{col} (int)'].sort_values().unique()\n",
    "        original_labels = {int(fee.replace('\\u00a3', '').replace(',', '')): fee for fee in df[col]}\n",
    "        plt.figure(figsize=(12, 6))\n",
    "        sns.countplot(\n",
    "        y=f'{col} (int)',\n",
    "        data=df,\n",
    "        order=sorted_val)\n",
    "        plt.yticks(ticks=range(len(sorted_val)), labels=[original_labels[fee] for fee in sorted_val])\n",
    "    \n",
    "    except:\n",
    "        sorted_val = df[col].sort_values(ascending=False).unique()\n",
    "        df[col] = pd.Categorical(df[col], categories=sorted_val, ordered=True)\n",
    "        plt.figure(figsize=(12, 6))\n",
    "        sns.countplot(y=col, data=df, order=sorted_val)\n",
    "    \n",
    "    plt.xlabel(\"Count\")\n",
    "    plt.ylabel(col)\n",
    "    plt.title(f\" {col} Distribution Across Study Modes\")\n",
    "\n",
    "    plt.show()\n"
   ]
  },
  {
   "cell_type": "code",
   "execution_count": 33,
   "metadata": {},
   "outputs": [
    {
     "name": "stdout",
     "output_type": "stream",
     "text": [
      "<class 'pandas.core.frame.DataFrame'>\n",
      "RangeIndex: 275 entries, 0 to 274\n",
      "Data columns (total 18 columns):\n",
      " #   Column                                Non-Null Count  Dtype \n",
      "---  ------                                --------------  ----- \n",
      " 0   Page title                            275 non-null    object\n",
      " 1   campus                                275 non-null    object\n",
      " 2   block release_duration                275 non-null    object\n",
      " 3   distance learning_duration            275 non-null    object\n",
      " 4   full time_duration                    275 non-null    object\n",
      " 5   part time_duration                    275 non-null    object\n",
      " 6   block release_international fees      275 non-null    object\n",
      " 7   distance learning_international fees  275 non-null    object\n",
      " 8   full time_international fees          275 non-null    object\n",
      " 9   part time_international fees          275 non-null    object\n",
      " 10  block release_uk fees                 275 non-null    object\n",
      " 11  distance learning_uk fees             275 non-null    object\n",
      " 12  full time_uk fees                     275 non-null    object\n",
      " 13  part time_uk fees                     275 non-null    object\n",
      " 14  block release_url                     275 non-null    object\n",
      " 15  distance learning_url                 275 non-null    object\n",
      " 16  full time_url                         275 non-null    object\n",
      " 17  part time_url                         275 non-null    object\n",
      "dtypes: object(18)\n",
      "memory usage: 38.8+ KB\n"
     ]
    }
   ],
   "source": [
    "new_df.drop(columns=['desc_len','description'],axis=1).info()"
   ]
  },
  {
   "cell_type": "code",
   "execution_count": 34,
   "metadata": {},
   "outputs": [
    {
     "data": {
      "text/html": [
       "<div>\n",
       "<style scoped>\n",
       "    .dataframe tbody tr th:only-of-type {\n",
       "        vertical-align: middle;\n",
       "    }\n",
       "\n",
       "    .dataframe tbody tr th {\n",
       "        vertical-align: top;\n",
       "    }\n",
       "\n",
       "    .dataframe thead th {\n",
       "        text-align: right;\n",
       "    }\n",
       "</style>\n",
       "<table border=\"1\" class=\"dataframe\">\n",
       "  <thead>\n",
       "    <tr style=\"text-align: right;\">\n",
       "      <th></th>\n",
       "      <th>Page title</th>\n",
       "      <th>campus</th>\n",
       "      <th>block release_duration</th>\n",
       "      <th>distance learning_duration</th>\n",
       "      <th>full time_duration</th>\n",
       "      <th>part time_duration</th>\n",
       "      <th>block release_international fees</th>\n",
       "      <th>distance learning_international fees</th>\n",
       "      <th>full time_international fees</th>\n",
       "      <th>part time_international fees</th>\n",
       "      <th>block release_uk fees</th>\n",
       "      <th>distance learning_uk fees</th>\n",
       "      <th>full time_uk fees</th>\n",
       "      <th>part time_uk fees</th>\n",
       "      <th>block release_url</th>\n",
       "      <th>distance learning_url</th>\n",
       "      <th>full time_url</th>\n",
       "      <th>part time_url</th>\n",
       "    </tr>\n",
       "  </thead>\n",
       "  <tbody>\n",
       "    <tr>\n",
       "      <th>count</th>\n",
       "      <td>275</td>\n",
       "      <td>275</td>\n",
       "      <td>275</td>\n",
       "      <td>275</td>\n",
       "      <td>275</td>\n",
       "      <td>275</td>\n",
       "      <td>275</td>\n",
       "      <td>275</td>\n",
       "      <td>275</td>\n",
       "      <td>275</td>\n",
       "      <td>275</td>\n",
       "      <td>275</td>\n",
       "      <td>275</td>\n",
       "      <td>275</td>\n",
       "      <td>275</td>\n",
       "      <td>275</td>\n",
       "      <td>275</td>\n",
       "      <td>275</td>\n",
       "    </tr>\n",
       "    <tr>\n",
       "      <th>unique</th>\n",
       "      <td>275</td>\n",
       "      <td>4</td>\n",
       "      <td>2</td>\n",
       "      <td>2</td>\n",
       "      <td>7</td>\n",
       "      <td>8</td>\n",
       "      <td>2</td>\n",
       "      <td>2</td>\n",
       "      <td>15</td>\n",
       "      <td>15</td>\n",
       "      <td>2</td>\n",
       "      <td>2</td>\n",
       "      <td>11</td>\n",
       "      <td>18</td>\n",
       "      <td>2</td>\n",
       "      <td>2</td>\n",
       "      <td>268</td>\n",
       "      <td>110</td>\n",
       "    </tr>\n",
       "    <tr>\n",
       "      <th>top</th>\n",
       "      <td>AI, Data and Communication MA</td>\n",
       "      <td>Regent, Central London</td>\n",
       "      <td></td>\n",
       "      <td></td>\n",
       "      <td>3 or 4 years</td>\n",
       "      <td></td>\n",
       "      <td></td>\n",
       "      <td></td>\n",
       "      <td>£17,000</td>\n",
       "      <td></td>\n",
       "      <td></td>\n",
       "      <td></td>\n",
       "      <td>£9,250</td>\n",
       "      <td></td>\n",
       "      <td></td>\n",
       "      <td></td>\n",
       "      <td></td>\n",
       "      <td></td>\n",
       "    </tr>\n",
       "    <tr>\n",
       "      <th>freq</th>\n",
       "      <td>1</td>\n",
       "      <td>96</td>\n",
       "      <td>274</td>\n",
       "      <td>274</td>\n",
       "      <td>101</td>\n",
       "      <td>166</td>\n",
       "      <td>274</td>\n",
       "      <td>274</td>\n",
       "      <td>163</td>\n",
       "      <td>166</td>\n",
       "      <td>274</td>\n",
       "      <td>274</td>\n",
       "      <td>163</td>\n",
       "      <td>166</td>\n",
       "      <td>274</td>\n",
       "      <td>274</td>\n",
       "      <td>8</td>\n",
       "      <td>166</td>\n",
       "    </tr>\n",
       "  </tbody>\n",
       "</table>\n",
       "</div>"
      ],
      "text/plain": [
       "                           Page title                  campus  \\\n",
       "count                             275                     275   \n",
       "unique                            275                       4   \n",
       "top     AI, Data and Communication MA  Regent, Central London   \n",
       "freq                                1                      96   \n",
       "\n",
       "       block release_duration distance learning_duration full time_duration  \\\n",
       "count                     275                        275                275   \n",
       "unique                      2                          2                  7   \n",
       "top                                                            3 or 4 years   \n",
       "freq                      274                        274                101   \n",
       "\n",
       "       part time_duration block release_international fees  \\\n",
       "count                 275                              275   \n",
       "unique                  8                                2   \n",
       "top                                                          \n",
       "freq                  166                              274   \n",
       "\n",
       "       distance learning_international fees full time_international fees  \\\n",
       "count                                   275                          275   \n",
       "unique                                    2                           15   \n",
       "top                                                              £17,000   \n",
       "freq                                    274                          163   \n",
       "\n",
       "       part time_international fees block release_uk fees  \\\n",
       "count                           275                   275   \n",
       "unique                           15                     2   \n",
       "top                                                         \n",
       "freq                            166                   274   \n",
       "\n",
       "       distance learning_uk fees full time_uk fees part time_uk fees  \\\n",
       "count                        275               275               275   \n",
       "unique                         2                11                18   \n",
       "top                                         £9,250                     \n",
       "freq                         274               163               166   \n",
       "\n",
       "       block release_url distance learning_url full time_url part time_url  \n",
       "count                275                   275           275           275  \n",
       "unique                 2                     2           268           110  \n",
       "top                                                                         \n",
       "freq                 274                   274             8           166  "
      ]
     },
     "execution_count": 34,
     "metadata": {},
     "output_type": "execute_result"
    }
   ],
   "source": [
    "new_df.drop(columns=['desc_len','description'],axis=1).describe()"
   ]
  },
  {
   "cell_type": "code",
   "execution_count": 31,
   "metadata": {},
   "outputs": [
    {
     "data": {
      "image/png": "[encoded data removed]",
      "text/plain": [
       "<Figure size 1200x600 with 1 Axes>"
      ]
     },
     "metadata": {},
     "output_type": "display_data"
    }
   ],
   "source": [
    "sorted_generate(df,'UK Fees')"
   ]
  },
  {
   "cell_type": "code",
   "execution_count": 32,
   "metadata": {},
   "outputs": [
    {
     "data": {
      "image/png": "[encoded data removed]",
      "text/plain": [
       "<Figure size 1200x600 with 1 Axes>"
      ]
     },
     "metadata": {},
     "output_type": "display_data"
    }
   ],
   "source": [
    "sorted_generate(df,'International Fees')"
   ]
  },
  {
   "cell_type": "code",
   "execution_count": 33,
   "metadata": {},
   "outputs": [
    {
     "data": {
      "image/png": "[encoded data removed]",
      "text/plain": [
       "<Figure size 1200x600 with 1 Axes>"
      ]
     },
     "metadata": {},
     "output_type": "display_data"
    }
   ],
   "source": [
    "sorted_generate(df,'Duration')"
   ]
  },
  {
   "cell_type": "code",
   "execution_count": 34,
   "metadata": {},
   "outputs": [
    {
     "data": {
      "image/png": "[encoded data removed]",
      "text/plain": [
       "<Figure size 1200x600 with 1 Axes>"
      ]
     },
     "metadata": {},
     "output_type": "display_data"
    }
   ],
   "source": [
    "sorted_generate(df,'Campus')"
   ]
  },
  {
   "cell_type": "code",
   "execution_count": 35,
   "metadata": {},
   "outputs": [],
   "source": [
    "new_df.rename(columns={'Page title':'page_title',\n",
    "'block release_duration':'block_release_duration',\n",
    "'distance learning_duration':'distance_learning_duration',\n",
    "'full time_duration':'full_time_duration',\n",
    "'part time_duration':'part_time_duration',\n",
    "'block release_international fees':'block_release_international_fees',\n",
    "'distance learning_international fees':'distance_learning_international_fees',\n",
    "'full time_international fees':'full_time_international_fees',\n",
    "'part time_international fees':'part_time_international_fees',\n",
    "'block release_uk fees':'block_release_uk_fees',\n",
    "'distance learning_uk fees':'distance_learning_uk_fees',\n",
    "'full time_uk fees':'full_time_uk_fees',\n",
    "'part time_uk fees':'part_time_uk_fees',\n",
    "'block release_url':'block_release_url',\n",
    "'distance learning_url':'distance_learning_url',\n",
    "'full time_url':'full_time_url',\n",
    "'part time_url':'part_time_url',\n",
    "},inplace=True)"
   ]
  },
  {
   "cell_type": "code",
   "execution_count": 36,
   "metadata": {},
   "outputs": [
    {
     "data": {
      "text/html": [
       "<div>\n",
       "<style scoped>\n",
       "    .dataframe tbody tr th:only-of-type {\n",
       "        vertical-align: middle;\n",
       "    }\n",
       "\n",
       "    .dataframe tbody tr th {\n",
       "        vertical-align: top;\n",
       "    }\n",
       "\n",
       "    .dataframe thead th {\n",
       "        text-align: right;\n",
       "    }\n",
       "</style>\n",
       "<table border=\"1\" class=\"dataframe\">\n",
       "  <thead>\n",
       "    <tr style=\"text-align: right;\">\n",
       "      <th></th>\n",
       "      <th>page_title</th>\n",
       "      <th>campus</th>\n",
       "      <th>block_release_duration</th>\n",
       "      <th>distance_learning_duration</th>\n",
       "      <th>full_time_duration</th>\n",
       "      <th>part_time_duration</th>\n",
       "      <th>block_release_international_fees</th>\n",
       "      <th>distance_learning_international_fees</th>\n",
       "      <th>full_time_international_fees</th>\n",
       "      <th>part_time_international_fees</th>\n",
       "      <th>block_release_uk_fees</th>\n",
       "      <th>distance_learning_uk_fees</th>\n",
       "      <th>full_time_uk_fees</th>\n",
       "      <th>part_time_uk_fees</th>\n",
       "      <th>block_release_url</th>\n",
       "      <th>distance_learning_url</th>\n",
       "      <th>full_time_url</th>\n",
       "      <th>part_time_url</th>\n",
       "      <th>desc_len</th>\n",
       "      <th>description</th>\n",
       "    </tr>\n",
       "  </thead>\n",
       "  <tbody>\n",
       "    <tr>\n",
       "      <th>0</th>\n",
       "      <td>AI, Data and Communication MA</td>\n",
       "      <td>Harrow, North-West London</td>\n",
       "      <td></td>\n",
       "      <td></td>\n",
       "      <td>1 year</td>\n",
       "      <td>2 years</td>\n",
       "      <td></td>\n",
       "      <td></td>\n",
       "      <td>£17,500</td>\n",
       "      <td>£1,985</td>\n",
       "      <td></td>\n",
       "      <td></td>\n",
       "      <td>£9,700</td>\n",
       "      <td>£1,125</td>\n",
       "      <td></td>\n",
       "      <td></td>\n",
       "      <td>https://www.westminster.ac.uk/computer-science...</td>\n",
       "      <td>https://www.westminster.ac.uk/computer-science...</td>\n",
       "      <td>459.0</td>\n",
       "      <td>It is estimated that there will be 97 million ...</td>\n",
       "    </tr>\n",
       "  </tbody>\n",
       "</table>\n",
       "</div>"
      ],
      "text/plain": [
       "                      page_title                     campus  \\\n",
       "0  AI, Data and Communication MA  Harrow, North-West London   \n",
       "\n",
       "  block_release_duration distance_learning_duration full_time_duration  \\\n",
       "0                                                               1 year   \n",
       "\n",
       "  part_time_duration block_release_international_fees  \\\n",
       "0            2 years                                    \n",
       "\n",
       "  distance_learning_international_fees full_time_international_fees  \\\n",
       "0                                                           £17,500   \n",
       "\n",
       "  part_time_international_fees block_release_uk_fees  \\\n",
       "0                       £1,985                         \n",
       "\n",
       "  distance_learning_uk_fees full_time_uk_fees part_time_uk_fees  \\\n",
       "0                                      £9,700            £1,125   \n",
       "\n",
       "  block_release_url distance_learning_url  \\\n",
       "0                                           \n",
       "\n",
       "                                       full_time_url  \\\n",
       "0  https://www.westminster.ac.uk/computer-science...   \n",
       "\n",
       "                                       part_time_url  desc_len  \\\n",
       "0  https://www.westminster.ac.uk/computer-science...     459.0   \n",
       "\n",
       "                                         description  \n",
       "0  It is estimated that there will be 97 million ...  "
      ]
     },
     "execution_count": 36,
     "metadata": {},
     "output_type": "execute_result"
    }
   ],
   "source": [
    "info = new_df.iloc[:1]\n",
    "info"
   ]
  },
  {
   "cell_type": "markdown",
   "metadata": {},
   "source": [
    "<hr>\n",
    "\n",
    "# Creating Dataset for different Models."
   ]
  },
  {
   "cell_type": "markdown",
   "metadata": {},
   "source": [
    "## Dataset for Gemma and Mistral model"
   ]
  },
  {
   "cell_type": "code",
   "execution_count": 1,
   "metadata": {},
   "outputs": [],
   "source": [
    "import numpy as np \n",
    "import pandas as pd"
   ]
  },
  {
   "cell_type": "code",
   "execution_count": 2,
   "metadata": {},
   "outputs": [],
   "source": [
    "df = pd.read_csv('Cleaned_dataset.csv')\n",
    "df.fillna(value='no_data', inplace=True)"
   ]
  },
  {
   "cell_type": "code",
   "execution_count": 3,
   "metadata": {},
   "outputs": [
    {
     "data": {
      "text/html": [
       "<div>\n",
       "<style scoped>\n",
       "    .dataframe tbody tr th:only-of-type {\n",
       "        vertical-align: middle;\n",
       "    }\n",
       "\n",
       "    .dataframe tbody tr th {\n",
       "        vertical-align: top;\n",
       "    }\n",
       "\n",
       "    .dataframe thead th {\n",
       "        text-align: right;\n",
       "    }\n",
       "</style>\n",
       "<table border=\"1\" class=\"dataframe\">\n",
       "  <thead>\n",
       "    <tr style=\"text-align: right;\">\n",
       "      <th></th>\n",
       "      <th>index</th>\n",
       "      <th>page_title</th>\n",
       "      <th>campus</th>\n",
       "      <th>block_release_duration</th>\n",
       "      <th>distance_learning_duration</th>\n",
       "      <th>full_time_duration</th>\n",
       "      <th>part_time_duration</th>\n",
       "      <th>block_release_international_fees</th>\n",
       "      <th>distance_learning_international_fees</th>\n",
       "      <th>full_time_international_fees</th>\n",
       "      <th>...</th>\n",
       "      <th>full_time_uk_fees</th>\n",
       "      <th>part_time_uk_fees</th>\n",
       "      <th>block_release_url</th>\n",
       "      <th>distance_learning_url</th>\n",
       "      <th>full_time_url</th>\n",
       "      <th>part_time_url</th>\n",
       "      <th>desc_len</th>\n",
       "      <th>description</th>\n",
       "      <th>ai_description</th>\n",
       "      <th>desc_ai_len</th>\n",
       "    </tr>\n",
       "  </thead>\n",
       "  <tbody>\n",
       "    <tr>\n",
       "      <th>0</th>\n",
       "      <td>0</td>\n",
       "      <td>AI, Data and Communication MA</td>\n",
       "      <td>Harrow, North-West London</td>\n",
       "      <td>no_data</td>\n",
       "      <td>no_data</td>\n",
       "      <td>1 year</td>\n",
       "      <td>2 years</td>\n",
       "      <td>no_data</td>\n",
       "      <td>no_data</td>\n",
       "      <td>£17,500</td>\n",
       "      <td>...</td>\n",
       "      <td>£9,700</td>\n",
       "      <td>£1,125</td>\n",
       "      <td>no_data</td>\n",
       "      <td>no_data</td>\n",
       "      <td>https://www.westminster.ac.uk/computer-science...</td>\n",
       "      <td>https://www.westminster.ac.uk/computer-science...</td>\n",
       "      <td>242</td>\n",
       "      <td>It is estimated that there will be 97 million ...</td>\n",
       "      <td>Introducing a cutting-edge educational course...</td>\n",
       "      <td>275</td>\n",
       "    </tr>\n",
       "    <tr>\n",
       "      <th>1</th>\n",
       "      <td>1</td>\n",
       "      <td>Accounting BSc Honours</td>\n",
       "      <td>Marylebone, Central London</td>\n",
       "      <td>no_data</td>\n",
       "      <td>no_data</td>\n",
       "      <td>3 or 4 years</td>\n",
       "      <td>no_data</td>\n",
       "      <td>no_data</td>\n",
       "      <td>no_data</td>\n",
       "      <td>£17,000</td>\n",
       "      <td>...</td>\n",
       "      <td>£9,250</td>\n",
       "      <td>no_data</td>\n",
       "      <td>no_data</td>\n",
       "      <td>no_data</td>\n",
       "      <td>https://www.westminster.ac.uk/accounting-and-f...</td>\n",
       "      <td>no_data</td>\n",
       "      <td>414</td>\n",
       "      <td>Our innovative accounting course is designed t...</td>\n",
       "      <td>This innovative accounting course is meticulo...</td>\n",
       "      <td>275</td>\n",
       "    </tr>\n",
       "    <tr>\n",
       "      <th>2</th>\n",
       "      <td>2</td>\n",
       "      <td>Accounting and Business Management BA Honours</td>\n",
       "      <td>Marylebone, Central London</td>\n",
       "      <td>no_data</td>\n",
       "      <td>no_data</td>\n",
       "      <td>3 or 4 years</td>\n",
       "      <td>no_data</td>\n",
       "      <td>no_data</td>\n",
       "      <td>no_data</td>\n",
       "      <td>£17,000</td>\n",
       "      <td>...</td>\n",
       "      <td>£9,250</td>\n",
       "      <td>no_data</td>\n",
       "      <td>no_data</td>\n",
       "      <td>no_data</td>\n",
       "      <td>https://www.westminster.ac.uk/accounting-and-f...</td>\n",
       "      <td>no_data</td>\n",
       "      <td>615</td>\n",
       "      <td>This degree is designed to equip you with a un...</td>\n",
       "      <td>This innovative degree program offers a blend...</td>\n",
       "      <td>275</td>\n",
       "    </tr>\n",
       "    <tr>\n",
       "      <th>3</th>\n",
       "      <td>3</td>\n",
       "      <td>Air Transport Planning and Management MSc</td>\n",
       "      <td>Marylebone, Central London</td>\n",
       "      <td>2 years</td>\n",
       "      <td>no_data</td>\n",
       "      <td>1 year</td>\n",
       "      <td>no_data</td>\n",
       "      <td>£1,785</td>\n",
       "      <td>no_data</td>\n",
       "      <td>£15,500</td>\n",
       "      <td>...</td>\n",
       "      <td>£9,700</td>\n",
       "      <td>no_data</td>\n",
       "      <td>https://www.westminster.ac.uk/transport-and-lo...</td>\n",
       "      <td>no_data</td>\n",
       "      <td>https://www.westminster.ac.uk/transport-and-lo...</td>\n",
       "      <td>no_data</td>\n",
       "      <td>521</td>\n",
       "      <td>This course has been developed to meet the nee...</td>\n",
       "      <td>This innovative educational course caters to ...</td>\n",
       "      <td>275</td>\n",
       "    </tr>\n",
       "    <tr>\n",
       "      <th>4</th>\n",
       "      <td>4</td>\n",
       "      <td>Animation BA Honours</td>\n",
       "      <td>Harrow, North-West London</td>\n",
       "      <td>no_data</td>\n",
       "      <td>no_data</td>\n",
       "      <td>3 or 4 years</td>\n",
       "      <td>no_data</td>\n",
       "      <td>no_data</td>\n",
       "      <td>no_data</td>\n",
       "      <td>£17,000</td>\n",
       "      <td>...</td>\n",
       "      <td>£9,250</td>\n",
       "      <td>no_data</td>\n",
       "      <td>no_data</td>\n",
       "      <td>no_data</td>\n",
       "      <td>https://www.westminster.ac.uk/art-design-and-v...</td>\n",
       "      <td>no_data</td>\n",
       "      <td>204</td>\n",
       "      <td>Our exciting specialist course will enable you...</td>\n",
       "      <td>This engaging specialist course nurtures both...</td>\n",
       "      <td>275</td>\n",
       "    </tr>\n",
       "  </tbody>\n",
       "</table>\n",
       "<p>5 rows × 23 columns</p>\n",
       "</div>"
      ],
      "text/plain": [
       "   index                                     page_title  \\\n",
       "0      0                  AI, Data and Communication MA   \n",
       "1      1                         Accounting BSc Honours   \n",
       "2      2  Accounting and Business Management BA Honours   \n",
       "3      3      Air Transport Planning and Management MSc   \n",
       "4      4                           Animation BA Honours   \n",
       "\n",
       "                       campus block_release_duration  \\\n",
       "0   Harrow, North-West London                no_data   \n",
       "1  Marylebone, Central London                no_data   \n",
       "2  Marylebone, Central London                no_data   \n",
       "3  Marylebone, Central London                2 years   \n",
       "4   Harrow, North-West London                no_data   \n",
       "\n",
       "  distance_learning_duration full_time_duration part_time_duration  \\\n",
       "0                    no_data             1 year            2 years   \n",
       "1                    no_data       3 or 4 years            no_data   \n",
       "2                    no_data       3 or 4 years            no_data   \n",
       "3                    no_data             1 year            no_data   \n",
       "4                    no_data       3 or 4 years            no_data   \n",
       "\n",
       "  block_release_international_fees distance_learning_international_fees  \\\n",
       "0                          no_data                              no_data   \n",
       "1                          no_data                              no_data   \n",
       "2                          no_data                              no_data   \n",
       "3                           £1,785                              no_data   \n",
       "4                          no_data                              no_data   \n",
       "\n",
       "  full_time_international_fees  ... full_time_uk_fees part_time_uk_fees  \\\n",
       "0                      £17,500  ...            £9,700            £1,125   \n",
       "1                      £17,000  ...            £9,250           no_data   \n",
       "2                      £17,000  ...            £9,250           no_data   \n",
       "3                      £15,500  ...            £9,700           no_data   \n",
       "4                      £17,000  ...            £9,250           no_data   \n",
       "\n",
       "                                   block_release_url distance_learning_url  \\\n",
       "0                                            no_data               no_data   \n",
       "1                                            no_data               no_data   \n",
       "2                                            no_data               no_data   \n",
       "3  https://www.westminster.ac.uk/transport-and-lo...               no_data   \n",
       "4                                            no_data               no_data   \n",
       "\n",
       "                                       full_time_url  \\\n",
       "0  https://www.westminster.ac.uk/computer-science...   \n",
       "1  https://www.westminster.ac.uk/accounting-and-f...   \n",
       "2  https://www.westminster.ac.uk/accounting-and-f...   \n",
       "3  https://www.westminster.ac.uk/transport-and-lo...   \n",
       "4  https://www.westminster.ac.uk/art-design-and-v...   \n",
       "\n",
       "                                       part_time_url desc_len  \\\n",
       "0  https://www.westminster.ac.uk/computer-science...      242   \n",
       "1                                            no_data      414   \n",
       "2                                            no_data      615   \n",
       "3                                            no_data      521   \n",
       "4                                            no_data      204   \n",
       "\n",
       "                                         description  \\\n",
       "0  It is estimated that there will be 97 million ...   \n",
       "1  Our innovative accounting course is designed t...   \n",
       "2  This degree is designed to equip you with a un...   \n",
       "3  This course has been developed to meet the nee...   \n",
       "4  Our exciting specialist course will enable you...   \n",
       "\n",
       "                                      ai_description  desc_ai_len  \n",
       "0   Introducing a cutting-edge educational course...          275  \n",
       "1   This innovative accounting course is meticulo...          275  \n",
       "2   This innovative degree program offers a blend...          275  \n",
       "3   This innovative educational course caters to ...          275  \n",
       "4   This engaging specialist course nurtures both...          275  \n",
       "\n",
       "[5 rows x 23 columns]"
      ]
     },
     "execution_count": 3,
     "metadata": {},
     "output_type": "execute_result"
    }
   ],
   "source": [
    "df.head()"
   ]
  },
  {
   "cell_type": "code",
   "execution_count": 4,
   "metadata": {},
   "outputs": [],
   "source": [
    "prompt_list = []\n",
    "output_list = []\n",
    "inputs_list = []\n",
    "\n",
    "for index, row in df.iterrows():\n",
    "    prompt = f\"Does the University of Westminster offer a course on {row['page_title']}?\"\n",
    "    inputs = f\"Course title: {row['page_title']}, Collage: University of Westminster,\"\n",
    "    output = f\"Yes, University of Westminster provides a course on {row['page_title']}:\\n\"\n",
    "    output += f\"Course title: {row['page_title']}.\\n\"\n",
    "    output += f\"Campus: {row['campus']}.\\n\"\n",
    "    inputs += f\"Campus: {row['campus']}\"\n",
    "\n",
    "    # output += f\"Description: {row['ai_description']}\\n\"\n",
    "    if str(row['full_time_duration']) != 'no_data':\n",
    "        output += f\"For full-time course:\\n\"\n",
    "        output += f\"UK fees:{row['full_time_uk_fees']}.\\n\"\n",
    "        output += f\"international fees: {row['full_time_international_fees']}.\\n\"\n",
    "        output += f\"The duration of the course is {row['full_time_duration']}.\\n\"\n",
    "        output += f\"For more details please visit the official website: {row['full_time_url']}\"\n",
    "\n",
    "        inputs = f\"Course title: {row['page_title']}, Collage: University of Westminster, Campus: {row['campus']}. For full-time course: UK fees is {row['full_time_uk_fees']} and international fees is {row['full_time_international_fees']}. Duration of the course is {row['full_time_duration']}, link: {row['full_time_url']}.\"\n",
    "\n",
    "    if str(row['part_time_duration']) != 'no_data':\n",
    "        output += f\"\\nFor Part-time course:\\n\"\n",
    "        output += f\"UK fees: {row['part_time_uk_fees']}.\\n\"\n",
    "        output += f\"international fees: {row['part_time_international_fees']}.\\n\"\n",
    "        output += f\"The duration of the course is {row['part_time_duration']}.\\n\"\n",
    "        output += f\"For more details please visit the official website: {row['part_time_url']} \"\n",
    "        inputs+= f\" For Part-time course: UK fees is {row['part_time_uk_fees']}, International fees is {row['part_time_international_fees']}. Duration of the course is {row['part_time_duration']}, link: {row['part_time_url']}.\"\n",
    "\n",
    "    if str(row['block_release_duration']) != 'no_data':\n",
    "        output += f\"\\nCheck this for new release:\\n \"\n",
    "        output += f\"{row['block_release_url']}\"\n",
    "        inputs += f\" New release of course is available at: {row['block_release_url']}\" \n",
    "\n",
    "\n",
    "    if str(row['distance_learning_duration']) != 'no_data':\n",
    "        output += f\"\\nThere are distance_learing options are also available:\\n\"\n",
    "        output += f\"UK fees: {row['distance_learning_uk_fees']}.\\n\"\n",
    "        output += f\"International fees: {row['distance_learning_international_fees']}.\\n\"\n",
    "        output += f\"Duration of the course: {row['distance_learning_duration']}.\\n\"\n",
    "        output += f\"For more details please visit the official website: {row['distance_learning_url']}\\n\"\n",
    "\n",
    "        inputs += f\" There are distance_learing options are also available. UK fees is {row['distance_learning_uk_fees']}, International fees is {row['distance_learning_international_fees']}. Duration of the course is {row['distance_learning_duration']}, link: {row['distance_learning_url']}\"\n",
    "    \n",
    "    prompt_list.append(prompt)\n",
    "    output_list.append(output)\n",
    "    inputs_list.append(inputs)\n"
   ]
  },
  {
   "cell_type": "code",
   "execution_count": 5,
   "metadata": {},
   "outputs": [],
   "source": [
    "df1= pd.DataFrame({'instructions': prompt_list, 'input':inputs_list ,'output': output_list})"
   ]
  },
  {
   "cell_type": "code",
   "execution_count": 6,
   "metadata": {},
   "outputs": [
    {
     "name": "stdout",
     "output_type": "stream",
     "text": [
      "Yes, University of Westminster provides a course on AI, Data and Communication MA:\n",
      "Course title: AI, Data and Communication MA.\n",
      "Campus: Harrow, North-West London.\n",
      "For full-time course:\n",
      "UK fees:£9,700.\n",
      "international fees: £17,500.\n",
      "The duration of the course is 1 year.\n",
      "For more details please visit the official website: https://www.westminster.ac.uk/computer-science-and-engineering-data-science-and-informatics-media-and-communication-courses/2025-26/september/full-time/ai-data-and-communication-ma\n",
      "For Part-time course:\n",
      "UK fees: £1,125.\n",
      "international fees: £1,985.\n",
      "The duration of the course is 2 years.\n",
      "For more details please visit the official website: https://www.westminster.ac.uk/computer-science-and-engineering-data-science-and-informatics-media-and-communication-courses/2025-26/september/part-time-day-evening/ai-data-and-communication-ma \n"
     ]
    }
   ],
   "source": [
    "print(df1['output'].values[0])"
   ]
  },
  {
   "cell_type": "code",
   "execution_count": 7,
   "metadata": {},
   "outputs": [
    {
     "name": "stdout",
     "output_type": "stream",
     "text": [
      "Course title: AI, Data and Communication MA, Collage: University of Westminster, Campus: Harrow, North-West London. For full-time course: UK fees is £9,700 and international fees is £17,500. Duration of the course is 1 year, link: https://www.westminster.ac.uk/computer-science-and-engineering-data-science-and-informatics-media-and-communication-courses/2025-26/september/full-time/ai-data-and-communication-ma. For Part-time course: UK fees is £1,125, International fees is £1,985. Duration of the course is 2 years, link: https://www.westminster.ac.uk/computer-science-and-engineering-data-science-and-informatics-media-and-communication-courses/2025-26/september/part-time-day-evening/ai-data-and-communication-ma.\n"
     ]
    }
   ],
   "source": [
    "print(df1['input'].values[0])"
   ]
  },
  {
   "cell_type": "code",
   "execution_count": 58,
   "metadata": {},
   "outputs": [],
   "source": [
    "df1.to_csv('gemma_dataset.csv',index=False)"
   ]
  },
  {
   "cell_type": "markdown",
   "metadata": {},
   "source": [
    "# Dataset for Llama and Phi model"
   ]
  },
  {
   "cell_type": "code",
   "execution_count": 150,
   "metadata": {},
   "outputs": [],
   "source": [
    "import numpy as np \n",
    "import pandas as pd"
   ]
  },
  {
   "cell_type": "code",
   "execution_count": 151,
   "metadata": {},
   "outputs": [],
   "source": [
    "df = pd.read_csv('Cleaned_dataset.csv')\n",
    "df.fillna(value='no_data', inplace=True)"
   ]
  },
  {
   "cell_type": "code",
   "execution_count": null,
   "metadata": {},
   "outputs": [],
   "source": [
    "df.head()"
   ]
  },
  {
   "cell_type": "code",
   "execution_count": 153,
   "metadata": {},
   "outputs": [],
   "source": [
    "prompt_list = []\n",
    "output_list = []\n",
    "inputs_list = []\n",
    "\n",
    "for index, row in df.iterrows():\n",
    "    prompt = f\"Does the University of Westminster offer a course on {row['page_title']}?\"\n",
    "    inputs = f\"Course title: {row['page_title']}, Collage: University of Westminster,\"\n",
    "    output = f\"Yes, University of Westminster provides a course on {row['page_title']}:\\n\"\n",
    "    output += f\"Course title: {row['page_title']}.\\n\"\n",
    "    output += f\"Campus: {row['campus']}.\\n\"\n",
    "    inputs += f\"Campus: {row['campus']}\"\n",
    "\n",
    "    # output += f\"Description: {row['ai_description']}\\n\"\n",
    "    if str(row['full_time_duration']) != 'no_data':\n",
    "        output += f\"For full-time course:\\n\"\n",
    "        output += f\"UK fees:{row['full_time_uk_fees']}.\\n\"\n",
    "        output += f\"international fees: {row['full_time_international_fees']}.\\n\"\n",
    "        output += f\"The duration of the course is {row['full_time_duration']}.\\n\"\n",
    "        output += f\"For more details please visit the official website: {row['full_time_url']}\"\n",
    "\n",
    "        inputs = f\"Course title: {row['page_title']}, Collage: University of Westminster, Campus: {row['campus']}. For full-time course: UK fees is {row['full_time_uk_fees']} and international fees is {row['full_time_international_fees']}. Duration of the course is {row['full_time_duration']}, link: {row['full_time_url']}.\"\n",
    "\n",
    "    if str(row['part_time_duration']) != 'no_data':\n",
    "        output += f\"\\nFor Part-time course:\\n\"\n",
    "        output += f\"UK fees: {row['part_time_uk_fees']}.\\n\"\n",
    "        output += f\"international fees: {row['part_time_international_fees']}.\\n\"\n",
    "        output += f\"The duration of the course is {row['part_time_duration']}.\\n\"\n",
    "        output += f\"For more details please visit the official website: {row['part_time_url']} \"\n",
    "        inputs+= f\" For Part-time course: UK fees is {row['part_time_uk_fees']}, International fees is {row['part_time_international_fees']}. Duration of the course is {row['part_time_duration']}, link: {row['part_time_url']}.\"\n",
    "\n",
    "    if str(row['block_release_duration']) != 'no_data':\n",
    "        output += f\"\\nCheck this for new release:\\n \"\n",
    "        output += f\"{row['block_release_url']}\"\n",
    "        inputs += f\" New release of course is available at: {row['block_release_url']}\" \n",
    "\n",
    "\n",
    "    if str(row['distance_learning_duration']) != 'no_data':\n",
    "        output += f\"\\nThere are distance_learing options are also available:\\n\"\n",
    "        output += f\"UK fees: {row['distance_learning_uk_fees']}.\\n\"\n",
    "        output += f\"International fees: {row['distance_learning_international_fees']}.\\n\"\n",
    "        output += f\"Duration of the course: {row['distance_learning_duration']}.\\n\"\n",
    "        output += f\"For more details please visit the official website: {row['distance_learning_url']}\\n\"\n",
    "\n",
    "        inputs += f\" There are distance_learing options are also available. UK fees is {row['distance_learning_uk_fees']}, International fees is {row['distance_learning_international_fees']}. Duration of the course is {row['distance_learning_duration']}, link: {row['distance_learning_url']}\"\n",
    "    \n",
    "    prompt_list.append(prompt)\n",
    "    output_list.append(output)\n",
    "    inputs_list.append(inputs)\n"
   ]
  },
  {
   "cell_type": "code",
   "execution_count": 154,
   "metadata": {},
   "outputs": [],
   "source": [
    "df1= pd.DataFrame({'instructions': prompt_list, 'input':inputs_list ,'output': output_list})"
   ]
  },
  {
   "cell_type": "code",
   "execution_count": 155,
   "metadata": {},
   "outputs": [],
   "source": [
    "co = []\n",
    "for index, row in df1.iterrows():\n",
    "    x = {}\n",
    "    y = {}\n",
    "    x = {'content': row['instructions'], 'role': 'user'}\n",
    "    y = {'content': row['output'], 'role':'assistant'}\n",
    "\n",
    "    co.append([x,y])"
   ]
  },
  {
   "cell_type": "code",
   "execution_count": 156,
   "metadata": {},
   "outputs": [],
   "source": [
    "x = pd.DataFrame([co]).T\n",
    "x = x.reset_index(drop=True)\n",
    "x = x.rename({0:\"conversations\"},axis=1)"
   ]
  },
  {
   "cell_type": "code",
   "execution_count": null,
   "metadata": {},
   "outputs": [],
   "source": [
    "x['conversations'][0]"
   ]
  },
  {
   "cell_type": "code",
   "execution_count": 48,
   "metadata": {},
   "outputs": [],
   "source": [
    "x.to_parquet(\"llama_dataset.parquet\", engine=\"pyarrow\", index=False)"
   ]
  },
  {
   "cell_type": "code",
   "execution_count": null,
   "metadata": {},
   "outputs": [],
   "source": []
  }
 ],
 "metadata": {
  "kernelspec": {
   "display_name": "gpu",
   "language": "python",
   "name": "python3"
  },
  "language_info": {
   "codemirror_mode": {
    "name": "ipython",
    "version": 3
   },
   "file_extension": ".py",
   "mimetype": "text/x-python",
   "name": "python",
   "nbconvert_exporter": "python",
   "pygments_lexer": "ipython3",
   "version": "3.12.3"
  }
 },
 "nbformat": 4,
 "nbformat_minor": 2
}
