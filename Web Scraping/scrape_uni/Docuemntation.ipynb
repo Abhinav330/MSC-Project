{
 "cells": [
  {
   "cell_type": "markdown",
   "metadata": {},
   "source": [
    "## Created a Web Crawler to Extract Data\n",
    "\n",
    "### Data: All courses available on the University of Westminster website.\n",
    "\n",
    "## Implementation\n",
    "- Used Scrapy to scrape the University of Westminster website.\n",
    "- Created two web spiders:\n",
    "  - One to find and extract all the links available in the sitemap.xml.\n",
    "  - Another to extract all the courses offered by the University of Westminster.\n",
    "- Extracted data included: Course URL, UK fees, international fees, course duration, and course description.\n",
    "\n",
    "## Issues:\n",
    "- The website blocked responses if too many requests were made in a short period.\n",
    "- Difficulty in saving the data in a properly structured format.\n",
    "\n",
    "## Mitigation:\n",
    "- Used fake request headers to bypass basic bot detection.\n",
    "- Implemented a delay to scrape only three web pages every three seconds, avoiding excessive request rates.\n",
    "- Saved all the extracted data in a CSV file, structured for future use."
   ]
  },
  {
   "cell_type": "markdown",
   "metadata": {},
   "source": [
    "## Data cleaning\n",
    "\n",
    "- Cleaned title column\n",
    "- for description column faced issues:\n",
    " - there was upto 1000 words in some descriptions.\n",
    " - some descriptions have garbage characters as well\n",
    " - solution:\n",
    "   - used gemma model to summerise the description under 300 words.\n",
    "\n",
    "- rest columns were ok.\n",
    "\n",
    "### For LLM fine tuning:\n",
    "- formed a new dataset in a structure of inputs and outputs to feed to llms for fine tuning.\n",
    "- cont. \n",
    " \n",
    "\n",
    "\n"
   ]
  }
 ],
 "metadata": {
  "kernelspec": {
   "display_name": ".venv",
   "language": "python",
   "name": "python3"
  },
  "language_info": {
   "name": "python",
   "version": "3.10.11"
  }
 },
 "nbformat": 4,
 "nbformat_minor": 2
}
