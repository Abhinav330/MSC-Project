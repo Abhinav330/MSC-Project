{
 "cells": [
  {
   "cell_type": "code",
   "execution_count": 1,
   "metadata": {},
   "outputs": [],
   "source": [
    "import os\n",
    "from dotenv import load_dotenv\n",
    "import streamlit as st\n",
    "\n",
    "from langchain_ollama import OllamaLLM\n",
    "from langchain_huggingface import HuggingFaceEmbeddings\n",
    "from langchain_groq import ChatGroq\n",
    "from langchain.chains.combine_documents import create_stuff_documents_chain\n",
    "from langchain.chains import create_retrieval_chain\n",
    "from langchain_chroma import Chroma\n",
    "from langchain_core.prompts import ChatPromptTemplate\n",
    "from langchain_core.output_parsers import StrOutputParser\n",
    "from langchain.globals import set_verbose\n",
    "from langchain.globals import set_debug\n",
    "\n",
    "set_debug(False)\n",
    "set_verbose(False)\n"
   ]
  },
  {
   "cell_type": "markdown",
   "metadata": {},
   "source": [
    "## Creating Vector DataBase with Documents."
   ]
  },
  {
   "cell_type": "code",
   "execution_count": null,
   "metadata": {},
   "outputs": [],
   "source": [
    "import pandas as pd\n",
    "\n",
    "df = pd.read_csv(\"D:\\\\MSC-DATA-SCIENCE\\\\Msc project\\\\website_chatbot\\\\university_data\\\\Cleaned_dataset.csv\")"
   ]
  },
  {
   "cell_type": "code",
   "execution_count": null,
   "metadata": {},
   "outputs": [
    {
     "data": {
      "text/html": [
       "<div>\n",
       "<style scoped>\n",
       "    .dataframe tbody tr th:only-of-type {\n",
       "        vertical-align: middle;\n",
       "    }\n",
       "\n",
       "    .dataframe tbody tr th {\n",
       "        vertical-align: top;\n",
       "    }\n",
       "\n",
       "    .dataframe thead th {\n",
       "        text-align: right;\n",
       "    }\n",
       "</style>\n",
       "<table border=\"1\" class=\"dataframe\">\n",
       "  <thead>\n",
       "    <tr style=\"text-align: right;\">\n",
       "      <th></th>\n",
       "      <th>index</th>\n",
       "      <th>page_title</th>\n",
       "      <th>campus</th>\n",
       "      <th>block_release_duration</th>\n",
       "      <th>distance_learning_duration</th>\n",
       "      <th>full_time_duration</th>\n",
       "      <th>part_time_duration</th>\n",
       "      <th>block_release_international_fees</th>\n",
       "      <th>distance_learning_international_fees</th>\n",
       "      <th>full_time_international_fees</th>\n",
       "      <th>...</th>\n",
       "      <th>full_time_uk_fees</th>\n",
       "      <th>part_time_uk_fees</th>\n",
       "      <th>block_release_url</th>\n",
       "      <th>distance_learning_url</th>\n",
       "      <th>full_time_url</th>\n",
       "      <th>part_time_url</th>\n",
       "      <th>desc_len</th>\n",
       "      <th>description</th>\n",
       "      <th>ai_description</th>\n",
       "      <th>desc_ai_len</th>\n",
       "    </tr>\n",
       "  </thead>\n",
       "  <tbody>\n",
       "    <tr>\n",
       "      <th>0</th>\n",
       "      <td>0</td>\n",
       "      <td>AI, Data and Communication MA</td>\n",
       "      <td>Harrow, North-West London</td>\n",
       "      <td>No_data</td>\n",
       "      <td>No_data</td>\n",
       "      <td>1 year</td>\n",
       "      <td>2 years</td>\n",
       "      <td>No_data</td>\n",
       "      <td>No_data</td>\n",
       "      <td>£17,500</td>\n",
       "      <td>...</td>\n",
       "      <td>£9,700</td>\n",
       "      <td>£1,125</td>\n",
       "      <td>No_data</td>\n",
       "      <td>No_data</td>\n",
       "      <td>https://www.westminster.ac.uk/computer-science...</td>\n",
       "      <td>https://www.westminster.ac.uk/computer-science...</td>\n",
       "      <td>242</td>\n",
       "      <td>It is estimated that there will be 97 million ...</td>\n",
       "      <td>Introducing a cutting-edge educational course...</td>\n",
       "      <td>275</td>\n",
       "    </tr>\n",
       "  </tbody>\n",
       "</table>\n",
       "<p>1 rows × 23 columns</p>\n",
       "</div>"
      ],
      "text/plain": [
       "  index                     page_title                     campus  \\\n",
       "0     0  AI, Data and Communication MA  Harrow, North-West London   \n",
       "\n",
       "  block_release_duration distance_learning_duration full_time_duration  \\\n",
       "0                No_data                    No_data             1 year   \n",
       "\n",
       "  part_time_duration block_release_international_fees  \\\n",
       "0            2 years                          No_data   \n",
       "\n",
       "  distance_learning_international_fees full_time_international_fees  ...  \\\n",
       "0                              No_data                      £17,500  ...   \n",
       "\n",
       "  full_time_uk_fees part_time_uk_fees block_release_url distance_learning_url  \\\n",
       "0            £9,700            £1,125           No_data               No_data   \n",
       "\n",
       "                                       full_time_url  \\\n",
       "0  https://www.westminster.ac.uk/computer-science...   \n",
       "\n",
       "                                       part_time_url desc_len  \\\n",
       "0  https://www.westminster.ac.uk/computer-science...      242   \n",
       "\n",
       "                                         description  \\\n",
       "0  It is estimated that there will be 97 million ...   \n",
       "\n",
       "                                      ai_description desc_ai_len  \n",
       "0   Introducing a cutting-edge educational course...         275  \n",
       "\n",
       "[1 rows x 23 columns]"
      ]
     },
     "metadata": {},
     "output_type": "display_data"
    }
   ],
   "source": [
    "df.fillna(\"No_data\",axis=1,inplace=True)\n",
    "df.head(1)"
   ]
  },
  {
   "cell_type": "code",
   "execution_count": null,
   "metadata": {},
   "outputs": [
    {
     "data": {
      "text/plain": [
       "Index(['index', 'page_title', 'campus', 'block_release_duration',\n",
       "       'distance_learning_duration', 'full_time_duration',\n",
       "       'part_time_duration', 'block_release_international_fees',\n",
       "       'distance_learning_international_fees', 'full_time_international_fees',\n",
       "       'part_time_international_fees', 'block_release_uk_fees',\n",
       "       'distance_learning_uk_fees', 'full_time_uk_fees', 'part_time_uk_fees',\n",
       "       'block_release_url', 'distance_learning_url', 'full_time_url',\n",
       "       'part_time_url', 'desc_len', 'description', 'ai_description',\n",
       "       'desc_ai_len'],\n",
       "      dtype='object')"
      ]
     },
     "metadata": {},
     "output_type": "display_data"
    }
   ],
   "source": [
    "df.columns"
   ]
  },
  {
   "cell_type": "code",
   "execution_count": null,
   "metadata": {},
   "outputs": [],
   "source": [
    "df.drop(columns=['index','block_release_duration','block_release_international_fees',\n",
    "                 'block_release_uk_fees','desc_len', 'description', \n",
    "                 'ai_description','desc_ai_len'], axis=1,inplace=True)"
   ]
  },
  {
   "cell_type": "code",
   "execution_count": null,
   "metadata": {},
   "outputs": [],
   "source": [
    "df.rename(columns={\n",
    "\"page_title\": \"Course Name\",\n",
    "\"campus\": \"The campus in which course is taught\",\n",
    "\"distance_learning_duration\": \"Duration of the course for the distance learning course\", \n",
    "\"full_time_duration\": \"Duration of the course for full time course\",\n",
    "\"part_time_duration\": \"Duration of the course for part time course\",\n",
    "\"distance_learning_international_fees\": \"Fee for international people for the distance learning course\",\n",
    "\"full_time_international_fees\": \"Fee for international people for the full time course\",\n",
    "\"part_time_international_fees\":\"Fee for international people for the part time course\",\n",
    "\"distance_learning_uk_fees\": \"Fee for UK people for the distance learning course\",\n",
    "\"full_time_uk_fees\": \"Fee for UK people for the full time course\",\n",
    "\"part_time_uk_fees\": \"Fee for UK people for the part time course\",\n",
    "\"block_release_url\": \"Link for the latest relese for the course\",\n",
    "\"distance_learning_url\": \"Link for the distance learning course\",\n",
    "\"full_time_url\": \"Link for the full time course\",\n",
    "\"part_time_url\":\"Link for the part time course\"\n",
    "},inplace=True)"
   ]
  },
  {
   "cell_type": "code",
   "execution_count": null,
   "metadata": {},
   "outputs": [],
   "source": [
    "df.to_csv(\"university_data.csv\",index=False)"
   ]
  },
  {
   "cell_type": "code",
   "execution_count": null,
   "metadata": {},
   "outputs": [],
   "source": [
    "from langchain_community.document_loaders.csv_loader import CSVLoader\n",
    "\n",
    "\n",
    "loader = CSVLoader(file_path='university_data.csv')\n",
    "\n",
    "data = loader.load()"
   ]
  },
  {
   "cell_type": "code",
   "execution_count": null,
   "metadata": {},
   "outputs": [],
   "source": [
    "from langchain_text_splitters import CharacterTextSplitter\n",
    "text_splitter =CharacterTextSplitter(separator=\"\\n\", chunk_size=1200, chunk_overlap=0,)\n",
    "final_docs = text_splitter.split_documents(data)"
   ]
  },
  {
   "cell_type": "code",
   "execution_count": null,
   "metadata": {},
   "outputs": [
    {
     "data": {
      "text/plain": [
       "276"
      ]
     },
     "metadata": {},
     "output_type": "display_data"
    }
   ],
   "source": [
    "len(final_docs)"
   ]
  },
  {
   "cell_type": "code",
   "execution_count": null,
   "metadata": {},
   "outputs": [
    {
     "data": {
      "text/plain": [
       "Document(metadata={'source': 'university_data.csv', 'row': 0}, page_content='Course Name: AI, Data and Communication MA\\nThe campus in which course is taught: Harrow, North-West London\\nDuration of the course for the distance learning course: No_data\\nDuration of the course for full time course: 1 year\\nDuration of the course for part time course: 2 years\\nFee for international people for the distance learning course: No_data\\nFee for international people for the full time course: £17,500\\nFee for international people for the part time course: £1,985\\nFee for UK people for the distance learning course: No_data\\nFee for UK people for the full time course: £9,700\\nFee for UK people for the part time course: £1,125\\nLink for the latest relese for the course: No_data\\nLink for the distance learning course: No_data\\nLink for the full time course: https://www.westminster.ac.uk/computer-science-and-engineering-data-science-and-informatics-media-and-communication-courses/2025-26/september/full-time/ai-data-and-communication-ma\\nLink for the part time course: https://www.westminster.ac.uk/computer-science-and-engineering-data-science-and-informatics-media-and-communication-courses/2025-26/september/part-time-day-evening/ai-data-and-communication-ma')"
      ]
     },
     "metadata": {},
     "output_type": "display_data"
    }
   ],
   "source": [
    "final_docs[0]"
   ]
  },
  {
   "cell_type": "code",
   "execution_count": null,
   "metadata": {},
   "outputs": [],
   "source": [
    "embeddings1 = HuggingFaceEmbeddings(model_name=\"all-MiniLM-L6-v2\")\n",
    "db = Chroma(persist_directory=\"./Croma_DB_UOW\", embedding_function=embeddings1)"
   ]
  },
  {
   "cell_type": "code",
   "execution_count": null,
   "metadata": {},
   "outputs": [],
   "source": [
    "db = Chroma.from_documents(final_docs,embedding=embeddings1,persist_directory=\"./Croma_DB_UOW\")"
   ]
  },
  {
   "cell_type": "code",
   "execution_count": null,
   "metadata": {},
   "outputs": [],
   "source": [
    "db = Chroma(persist_directory=\"./Croma_DB_UOW\", embedding_function=embeddings1)"
   ]
  },
  {
   "cell_type": "code",
   "execution_count": null,
   "metadata": {},
   "outputs": [
    {
     "data": {
      "text/plain": [
       "<langchain_chroma.vectorstores.Chroma at 0x1a79b3029e0>"
      ]
     },
     "metadata": {},
     "output_type": "display_data"
    }
   ],
   "source": [
    "db"
   ]
  },
  {
   "cell_type": "markdown",
   "metadata": {},
   "source": [
    "## LLM working"
   ]
  },
  {
   "cell_type": "code",
   "execution_count": 3,
   "metadata": {},
   "outputs": [],
   "source": [
    "load_dotenv()\n",
    "groq_api_key= os.getenv(\"GROQ_API_KEY\")\n"
   ]
  },
  {
   "cell_type": "code",
   "execution_count": 4,
   "metadata": {},
   "outputs": [],
   "source": [
    "prompt1 = ChatPromptTemplate.from_messages(\n",
    "    [\n",
    "        (\"system\",\n",
    "         '''\n",
    "         User will ask you a question about a course from the university. You need to do the following things:\n",
    "          1. Identify the university name from the query.\n",
    "          2. Identify the subject name from the query.\n",
    "          3. Identify the type of degree from the query.\n",
    "          4. If the type of degree is not specified in the query, include all degree types as follows: \"MA, BA, MSc, BSc, PhD, etc.\"\n",
    "          5. If no university name is given, assume [University name] is \"University of Westminster\".\n",
    "          6. Return the question in the following format:\n",
    "          Does the [University name] offer a course on [Course name] [Type of degree]?\n",
    "          If the type of degree is not specified, use this format:\n",
    "          Does the [University name] offer a course on [Course name] MA, BA, MSc, BSc, PhD, etc?\n",
    "          7. Strictly only return the question as described above. Do not write anything else.\n",
    "         '''\n",
    "        ),\n",
    "        (\"user\", \"Question:{query1}\")        \n",
    "    ]\n",
    ")\n",
    "\n",
    "\n",
    "\n",
    "prompt2 = ChatPromptTemplate.from_messages(\n",
    "    [\n",
    "        (\"system\", \n",
    "         '''\n",
    "         You are a helpful University assistant. Your job is to give the diffrent course information asked by the user.Answer the questions based on the provided contexts only in the given format:\n",
    "         <context>\n",
    "         {context}\n",
    "         </context>\n",
    "         In above context No_data means course is not available so please dont include it.\n",
    "\n",
    "         response format: \n",
    "         Yes, [University Name] provides a course on [Subject name]: \n",
    "         Course title: [page_title]. \n",
    "         Campus: [campus]. \n",
    "         [If full time course details are available]\n",
    "         \n",
    "         For full-time course: \n",
    "         UK fees:[full_time_uk_fees]. \n",
    "         international fees: [full_time_international_fees]. \n",
    "         The duration of the course is [full_time_duration]. \n",
    "         For more details please visit the official website:[full_time_url] \n",
    "         \n",
    "         [If part time course details are available]\n",
    "         For Part-time course: \n",
    "         UK fees: [part_time_uk_fees]. \n",
    "         international fees: [part_time_international_fees]. \n",
    "         The duration of the course is [part_time_duration]. \n",
    "         For more details please visit the official website: [part_time_url]\n",
    "\n",
    "         [If block_release_url details are available]\n",
    "         Check this for new release: [block_release_url]\n",
    "\n",
    "         [If distance learning course details are available]\n",
    "         There are distance_learning options are also available: \n",
    "         UK fees: [distance_learning_uk_fees]. \n",
    "         International fees: [distance_learning_international_fees]. \n",
    "         Duration of the course: [distance_learning_duration]. \n",
    "         For more details please visit the official website:[distance_learning_url] \n",
    "         '''\n",
    "        ),\n",
    "        (\"user\", \"Question:{input}\")        \n",
    "    ]\n",
    ")\n",
    "\n",
    "prompt2 = ChatPromptTemplate.from_messages(\n",
    "    [\n",
    "        (\"system\", \n",
    "         '''\n",
    "         You are a helpful University assistant. Your job is to give the diffrent course information asked by the user.Answer the questions based on the provided contexts only in the given format:\n",
    "         <context>\n",
    "         {context}\n",
    "         </context>\n",
    "         In above context No_data means course is not available so please dont include it.\n",
    "\n",
    "         response format: \n",
    "         Yes, [University Name] provides a course on [Subject name]: \n",
    "         Course title: [page_title]. \n",
    "         Campus: [campus]. \n",
    "         [If full time course details are available]\n",
    "         \n",
    "         For full-time course: \n",
    "         UK fees:[full_time_uk_fees]. \n",
    "         international fees: [full_time_international_fees]. \n",
    "         The duration of the course is [full_time_duration]. \n",
    "         For more details please visit the official website:[full_time_url] \n",
    "         \n",
    "         [If part time course details are available]\n",
    "         For Part-time course: \n",
    "         UK fees: [part_time_uk_fees]. \n",
    "         international fees: [part_time_international_fees]. \n",
    "         The duration of the course is [part_time_duration]. \n",
    "         For more details please visit the official website: [part_time_url]\n",
    "\n",
    "         [If block_release_url details are available]\n",
    "         Check this for new release: [block_release_url]\n",
    "\n",
    "         [If distance learning course details are available]\n",
    "         There are distance_learning options are also available: \n",
    "         UK fees: [distance_learning_uk_fees]. \n",
    "         International fees: [distance_learning_international_fees]. \n",
    "         Duration of the course: [distance_learning_duration]. \n",
    "         For more details please visit the official website:[distance_learning_url] \n",
    "         '''\n",
    "        ),\n",
    "        (\"user\", \"Question:{input}\")        \n",
    "    ]\n",
    ")\n",
    "\n",
    "prompt2 = ChatPromptTemplate.from_messages(\n",
    "    [\n",
    "        (\"system\", \n",
    "         '''\n",
    "         You are a helpful University assistant. Your job is to give the diffrent course information asked by the user.Answer the questions based on the provided contexts only in the given format:\n",
    "         <context>\n",
    "         {context}\n",
    "         </context>\n",
    "         In above context No_data means course is not available so please dont include it.\n",
    "\n",
    "         response format: \n",
    "         Yes, [University Name] provides a course on [Subject name]: \n",
    "         Course title: [page_title]. \n",
    "         Campus: [campus]. \n",
    "         [If full time course details are available]\n",
    "         \n",
    "         For full-time course: \n",
    "         UK fees:[full_time_uk_fees]. \n",
    "         international fees: [full_time_international_fees]. \n",
    "         The duration of the course is [full_time_duration]. \n",
    "         For more details please visit the official website:[full_time_url] \n",
    "         \n",
    "         [If part time course details are available]\n",
    "         For Part-time course: \n",
    "         UK fees: [part_time_uk_fees]. \n",
    "         international fees: [part_time_international_fees]. \n",
    "         The duration of the course is [part_time_duration]. \n",
    "         For more details please visit the official website: [part_time_url]\n",
    "\n",
    "         [If block_release_url details are available]\n",
    "         Check this for new release: [block_release_url]\n",
    "\n",
    "         [If distance learning course details are available]\n",
    "         There are distance_learning options are also available: \n",
    "         UK fees: [distance_learning_uk_fees]. \n",
    "         International fees: [distance_learning_international_fees]. \n",
    "         Duration of the course: [distance_learning_duration]. \n",
    "         For more details please visit the official website:[distance_learning_url] \n",
    "         '''\n",
    "        ),\n",
    "        (\"user\", \"Question:{input}\")        \n",
    "    ]\n",
    ")\n",
    "\n",
    "prompt3 = ChatPromptTemplate.from_messages(\n",
    "    [\n",
    "        (\"system\", \n",
    "         '''\n",
    "         You are a helpful University assistant. Your job is to give the diffrent course information asked by the user.Answer the questions based on the provided contexts only in the given format:\n",
    "         <context>\n",
    "         {context}\n",
    "         </context>\n",
    "         In above context No_data means course is not available so please dont include it.\n",
    "\n",
    "         response format: \n",
    "         Yes, [University Name] provides a course on [Subject name]: \n",
    "         Course title: [page_title]. \n",
    "         Campus: [campus]. \n",
    "         [If full time course details are available]\n",
    "         \n",
    "         For full-time course: \n",
    "         UK fees:[full_time_uk_fees]. \n",
    "         international fees: [full_time_international_fees]. \n",
    "         The duration of the course is [full_time_duration]. \n",
    "         For more details please visit the official website:[full_time_url] \n",
    "         \n",
    "         [If part time course details are available]\n",
    "         For Part-time course: \n",
    "         UK fees: [part_time_uk_fees]. \n",
    "         international fees: [part_time_international_fees]. \n",
    "         The duration of the course is [part_time_duration]. \n",
    "         For more details please visit the official website: [part_time_url]\n",
    "\n",
    "         '''\n",
    "        ),\n",
    "        (\"user\", \"Question:{input}\")        \n",
    "    ]\n",
    ")\n"
   ]
  },
  {
   "cell_type": "code",
   "execution_count": 5,
   "metadata": {},
   "outputs": [],
   "source": [
    "query=\"I am looking for course on music in university of westminster\"\n",
    "llm1 = ChatGroq(model_name=\"llama3-70b-8192\", groq_api_key=groq_api_key)\n",
    "llm2 = OllamaLLM(model=\"chatbot3\")\n",
    "\n",
    "output_parser =  StrOutputParser()"
   ]
  },
  {
   "cell_type": "code",
   "execution_count": 6,
   "metadata": {},
   "outputs": [],
   "source": [
    "embeddings1 = HuggingFaceEmbeddings(model_name=\"all-MiniLM-L6-v2\")\n",
    "db = Chroma(persist_directory=\"./Croma_DB_UOW\", embedding_function=embeddings1)"
   ]
  },
  {
   "cell_type": "code",
   "execution_count": 7,
   "metadata": {},
   "outputs": [],
   "source": [
    "retriever= db.as_retriever(search_type = \"similarity\",search_kwargs={'k':3},)\n",
    "retriever1= db.as_retriever(search_type = \"similarity\",search_kwargs={'k':6},)"
   ]
  },
  {
   "cell_type": "code",
   "execution_count": null,
   "metadata": {},
   "outputs": [],
   "source": [
    "chain1 = prompt1|llm1| output_parser\n",
    "\n",
    "document_chain = create_stuff_documents_chain(llm=llm2,prompt=prompt2)\n",
    "chain2 = create_retrieval_chain(retriever,document_chain)\n",
    "\n",
    "document_chain1 = create_stuff_documents_chain(llm=llm1,prompt=prompt2)\n",
    "chain3 = create_retrieval_chain(retriever,document_chain1)\n",
    "\n",
    "document_chain2 = create_stuff_documents_chain(llm=llm2,prompt=prompt3)\n",
    "chain4 = create_retrieval_chain(retriever,document_chain2)"
   ]
  },
  {
   "cell_type": "code",
   "execution_count": 9,
   "metadata": {},
   "outputs": [
    {
     "name": "stdout",
     "output_type": "stream",
     "text": [
      "Yes, the University of Westminster provides a course on Music: \n",
      "\n",
      "Course title: Music Production, Performance and Business BA Honours. \n",
      "Campus: Harrow, North-West London.\n",
      "\n",
      "For full-time course: \n",
      "UK fees: £9,250. \n",
      "International fees: £17,000. \n",
      "The duration of the course is 3 or 4 years. \n",
      "For more details please visit the official website: https://www.westminster.ac.uk/music-courses/2025-26/september/full-time/music-production-performance-and-business-ba-honours\n",
      "\n",
      "Also, the University of Westminster provides another course on Music: \n",
      "\n",
      "Course title: Music Production, Performance and Business with Foundation BA Honours. \n",
      "Campus: Harrow, North-West London.\n",
      "\n",
      "For full-time course: \n",
      "UK fees: £9,250. \n",
      "International fees: £17,000. \n",
      "The duration of the course is 4 or 5 years. \n",
      "For more details please visit the official website: https://www.westminster.ac.uk/music-courses/2025-26/september/full-time/music-production-performance-and-business-with-foundation-ba-honours"
     ]
    }
   ],
   "source": [
    "\n",
    "if query:\n",
    "    question =  chain1.invoke({\"query1\": query})\n",
    "\n",
    "    if \"MA, BA, MSc, BSc, PhD\" in question:\n",
    "        async for chunk in chain3.astream({'input':question}):\n",
    "            if 'answer' in chunk.keys():\n",
    "                print(chunk['answer'], end=\"\", flush=True)\n",
    "    \n",
    "    else:\n",
    "        async for chunk in chain2.astream({'input':question}):\n",
    "            if 'answer' in chunk.keys():print(chunk['answer'], end=\"\", flush=True)\n"
   ]
  }
 ],
 "metadata": {
  "kernelspec": {
   "display_name": "chatbot_edu",
   "language": "python",
   "name": "python3"
  },
  "language_info": {
   "codemirror_mode": {
    "name": "ipython",
    "version": 3
   },
   "file_extension": ".py",
   "mimetype": "text/x-python",
   "name": "python",
   "nbconvert_exporter": "python",
   "pygments_lexer": "ipython3",
   "version": "3.9.20"
  }
 },
 "nbformat": 4,
 "nbformat_minor": 2
}
